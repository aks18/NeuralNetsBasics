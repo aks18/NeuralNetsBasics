{
 "cells": [
  {
   "cell_type": "markdown",
   "metadata": {},
   "source": [
    "#    Working on Fashion MNIST"
   ]
  },
  {
   "cell_type": "code",
   "execution_count": 1,
   "metadata": {},
   "outputs": [
    {
     "name": "stdout",
     "output_type": "stream",
     "text": [
      "1.13.1\n"
     ]
    }
   ],
   "source": [
    "#importing libraries to be used\n",
    "import tensorflow as tf\n",
    "import numpy as np\n",
    "import pandas as pd\n",
    "import matplotlib.pyplot as plt\n",
    "print(tf.__version__)"
   ]
  },
  {
   "cell_type": "code",
   "execution_count": 2,
   "metadata": {},
   "outputs": [],
   "source": [
    "#loading the mnist dataset from the keras library\n",
    "mnist = tf.keras.datasets.fashion_mnist"
   ]
  },
  {
   "cell_type": "code",
   "execution_count": 3,
   "metadata": {},
   "outputs": [
    {
     "data": {
      "text/plain": [
       "<module 'tensorflow._api.v1.keras.datasets.fashion_mnist' from '/home/shitbot009/anaconda3/lib/python3.7/site-packages/tensorflow/_api/v1/keras/datasets/fashion_mnist/__init__.py'>"
      ]
     },
     "execution_count": 3,
     "metadata": {},
     "output_type": "execute_result"
    }
   ],
   "source": [
    "mnist"
   ]
  },
  {
   "cell_type": "code",
   "execution_count": 4,
   "metadata": {},
   "outputs": [],
   "source": [
    "#loading the training data and labels and test data and labels. These are predefined in the MNIST dataset\n",
    "(trn_imgs, trn_lbls), (tst_imgs, tst_lbls) = mnist.load_data()"
   ]
  },
  {
   "cell_type": "code",
   "execution_count": 78,
   "metadata": {
    "scrolled": true
   },
   "outputs": [
    {
     "name": "stdout",
     "output_type": "stream",
     "text": [
      "7\n",
      "[[0.         0.         0.         0.         0.         0.\n",
      "  0.         0.         0.         0.         0.         0.\n",
      "  0.         0.         0.         0.         0.         0.\n",
      "  0.         0.         0.         0.         0.         0.\n",
      "  0.         0.         0.         0.        ]\n",
      " [0.         0.         0.         0.         0.         0.\n",
      "  0.         0.         0.         0.         0.         0.\n",
      "  0.         0.         0.         0.         0.         0.\n",
      "  0.         0.         0.         0.         0.         0.\n",
      "  0.         0.         0.         0.        ]\n",
      " [0.         0.         0.         0.         0.         0.\n",
      "  0.         0.         0.         0.         0.         0.\n",
      "  0.         0.         0.         0.         0.         0.\n",
      "  0.         0.         0.         0.         0.         0.\n",
      "  0.         0.         0.         0.        ]\n",
      " [0.         0.         0.         0.         0.         0.\n",
      "  0.         0.         0.         0.         0.         0.\n",
      "  0.         0.         0.         0.         0.         0.\n",
      "  0.         0.         0.         0.         0.         0.\n",
      "  0.         0.         0.         0.        ]\n",
      " [0.         0.         0.         0.         0.         0.\n",
      "  0.         0.         0.         0.         0.         0.\n",
      "  0.         0.         0.         0.         0.         0.\n",
      "  0.         0.         0.         0.         0.         0.\n",
      "  0.         0.         0.         0.        ]\n",
      " [0.         0.         0.         0.         0.         0.\n",
      "  0.         0.         0.         0.         0.         0.\n",
      "  0.         0.         0.         0.         0.         0.\n",
      "  0.         0.         0.         0.         0.         0.\n",
      "  0.         0.         0.         0.        ]\n",
      " [0.         0.         0.         0.         0.         0.\n",
      "  0.         0.         0.         0.         0.         0.\n",
      "  0.         0.         0.         0.         0.         0.\n",
      "  0.         0.         0.         0.         0.         0.\n",
      "  0.         0.         0.         0.        ]\n",
      " [0.         0.         0.         0.         0.         0.\n",
      "  0.         0.         0.         0.         0.         0.\n",
      "  0.         0.         0.         0.         0.         0.\n",
      "  0.         0.         0.         0.         0.         0.\n",
      "  0.         0.         0.         0.        ]\n",
      " [0.         0.         0.         0.         0.         0.\n",
      "  0.         0.         0.         0.         0.         0.\n",
      "  0.         0.         0.         0.         0.         0.\n",
      "  0.         0.         0.         0.         0.         0.\n",
      "  0.         0.         0.         0.        ]\n",
      " [0.         0.         0.         0.         0.         0.\n",
      "  0.         0.         0.         0.         0.         0.01176471\n",
      "  0.         0.         0.14117647 0.2627451  0.21960784 0.\n",
      "  0.         0.01176471 0.         0.         0.         0.\n",
      "  0.         0.         0.15686275 0.10588235]\n",
      " [0.         0.         0.         0.         0.         0.\n",
      "  0.         0.         0.00784314 0.         0.         0.\n",
      "  0.         0.62745098 1.         0.85098039 1.         0.36862745\n",
      "  0.         0.         0.         0.00392157 0.01568627 0.\n",
      "  0.         0.         0.25490196 0.14901961]\n",
      " [0.         0.         0.         0.         0.         0.\n",
      "  0.00392157 0.         0.         0.         0.         0.58823529\n",
      "  0.9254902  0.84313725 0.78431373 0.76470588 0.77254902 0.98431373\n",
      "  0.77647059 0.16078431 0.         0.         0.         0.\n",
      "  0.         0.24705882 0.9254902  0.10196078]\n",
      " [0.         0.00784314 0.00392157 0.         0.         0.\n",
      "  0.         0.         0.25882353 0.65490196 0.94901961 0.84705882\n",
      "  0.8        0.74509804 0.74901961 0.78823529 0.78039216 0.77254902\n",
      "  0.83529412 1.         0.76862745 0.47843137 0.37647059 0.47843137\n",
      "  0.72941176 0.80784314 0.89019608 0.24705882]\n",
      " [0.         0.         0.         0.         0.         0.\n",
      "  0.16078431 0.69803922 0.87843137 0.83529412 0.78039216 0.75294118\n",
      "  0.75686275 0.74901961 0.75294118 0.78039216 0.80784314 0.80392157\n",
      "  0.79607843 0.80784314 0.83921569 0.88235294 0.88627451 0.87843137\n",
      "  0.85882353 0.8        0.85098039 0.49411765]\n",
      " [0.         0.29019608 0.5254902  0.57254902 0.65098039 0.74901961\n",
      "  0.8        0.78431373 0.75686275 0.74509804 0.75686275 0.76862745\n",
      "  0.75686275 0.79215686 0.8        0.81176471 0.80392157 0.78431373\n",
      "  0.79607843 0.80392157 0.79215686 0.78823529 0.78039216 0.77647059\n",
      "  0.78431373 0.77254902 0.86666667 0.51764706]\n",
      " [0.04705882 0.64313725 0.83921569 0.85098039 0.8627451  0.84705882\n",
      "  0.84313725 0.81960784 0.82745098 0.81568627 0.81176471 0.80392157\n",
      "  0.81176471 0.81960784 0.80784314 0.80784314 0.80784314 0.80784314\n",
      "  0.81568627 0.81176471 0.81568627 0.80784314 0.80784314 0.81176471\n",
      "  0.81176471 0.79607843 0.88627451 0.58823529]\n",
      " [0.10980392 0.00784314 0.         0.0627451  0.16862745 0.32156863\n",
      "  0.46666667 0.5254902  0.6627451  0.7254902  0.80784314 0.85882353\n",
      "  0.8745098  0.89411765 0.91372549 0.93333333 0.94901961 0.94509804\n",
      "  0.93333333 0.92156863 0.92941176 0.92941176 0.9254902  0.91372549\n",
      "  0.89411765 0.84705882 0.96470588 0.40784314]\n",
      " [0.12941176 0.21960784 0.16862745 0.0745098  0.         0.\n",
      "  0.         0.         0.         0.         0.         0.\n",
      "  0.         0.         0.03137255 0.0627451  0.05098039 0.07058824\n",
      "  0.08235294 0.05098039 0.04313725 0.05882353 0.07843137 0.07843137\n",
      "  0.08627451 0.08235294 0.23529412 0.14509804]\n",
      " [0.         0.00392157 0.05098039 0.16078431 0.29411765 0.31764706\n",
      "  0.26666667 0.2627451  0.22352941 0.18431373 0.14901961 0.14901961\n",
      "  0.1254902  0.1372549  0.14901961 0.1372549  0.14509804 0.16078431\n",
      "  0.14509804 0.14117647 0.14901961 0.15686275 0.18431373 0.20784314\n",
      "  0.23921569 0.30980392 0.44705882 0.24705882]\n",
      " [0.         0.         0.         0.         0.00392157 0.05882353\n",
      "  0.12156863 0.21960784 0.25882353 0.26666667 0.32156863 0.35294118\n",
      "  0.31764706 0.27843137 0.24313725 0.18039216 0.13333333 0.12941176\n",
      "  0.14901961 0.17647059 0.18039216 0.16862745 0.11764706 0.0745098\n",
      "  0.05490196 0.06666667 0.08627451 0.        ]\n",
      " [0.         0.         0.         0.         0.         0.\n",
      "  0.         0.         0.         0.         0.         0.\n",
      "  0.         0.         0.         0.         0.         0.\n",
      "  0.         0.         0.         0.         0.         0.\n",
      "  0.         0.         0.         0.        ]\n",
      " [0.         0.         0.         0.         0.         0.\n",
      "  0.         0.         0.         0.         0.         0.\n",
      "  0.         0.         0.         0.         0.         0.\n",
      "  0.         0.         0.         0.         0.         0.\n",
      "  0.         0.         0.         0.        ]\n",
      " [0.         0.         0.         0.         0.         0.\n",
      "  0.         0.         0.         0.         0.         0.\n",
      "  0.         0.         0.         0.         0.         0.\n",
      "  0.         0.         0.         0.         0.         0.\n",
      "  0.         0.         0.         0.        ]\n",
      " [0.         0.         0.         0.         0.         0.\n",
      "  0.         0.         0.         0.         0.         0.\n",
      "  0.         0.         0.         0.         0.         0.\n",
      "  0.         0.         0.         0.         0.         0.\n",
      "  0.         0.         0.         0.        ]\n",
      " [0.         0.         0.         0.         0.         0.\n",
      "  0.         0.         0.         0.         0.         0.\n",
      "  0.         0.         0.         0.         0.         0.\n",
      "  0.         0.         0.         0.         0.         0.\n",
      "  0.         0.         0.         0.        ]\n",
      " [0.         0.         0.         0.         0.         0.\n",
      "  0.         0.         0.         0.         0.         0.\n",
      "  0.         0.         0.         0.         0.         0.\n",
      "  0.         0.         0.         0.         0.         0.\n",
      "  0.         0.         0.         0.        ]\n",
      " [0.         0.         0.         0.         0.         0.\n",
      "  0.         0.         0.         0.         0.         0.\n",
      "  0.         0.         0.         0.         0.         0.\n",
      "  0.         0.         0.         0.         0.         0.\n",
      "  0.         0.         0.         0.        ]\n",
      " [0.         0.         0.         0.         0.         0.\n",
      "  0.         0.         0.         0.         0.         0.\n",
      "  0.         0.         0.         0.         0.         0.\n",
      "  0.         0.         0.         0.         0.         0.\n",
      "  0.         0.         0.         0.        ]]\n"
     ]
    },
    {
     "data": {
      "image/png": "[encoded data removed]",
      "text/plain": [
       "<Figure size 432x288 with 1 Axes>"
      ]
     },
     "metadata": {
      "needs_background": "light"
     },
     "output_type": "display_data"
    }
   ],
   "source": [
    "#printing to see one of the images in the training dataset along with its labels\n",
    "plt.imshow(trn_imgs[20000])\n",
    "print(trn_lbls[20000])\n",
    "print(trn_imgs[20000])"
   ]
  },
  {
   "cell_type": "markdown",
   "metadata": {},
   "source": [
    "## Normalizing Input Data\n",
    "All values are between 0 and 255. While training a neural network its better if we **normalize** our data i.e.\n",
    "convert all of it between 0 and 1."
   ]
  },
  {
   "cell_type": "code",
   "execution_count": 20,
   "metadata": {},
   "outputs": [],
   "source": [
    "#this converts all of the images values of pixels in between 0 and 1\n",
    "trn_imgs = trn_imgs / 255.0\n",
    "tst_imgs = tst_imgs / 255"
   ]
  },
  {
   "cell_type": "code",
   "execution_count": 21,
   "metadata": {
    "scrolled": true
   },
   "outputs": [
    {
     "name": "stdout",
     "output_type": "stream",
     "text": [
      "8\n",
      "[[0.         0.         0.         0.         0.         0.\n",
      "  0.         0.         0.         0.00392157 0.         0.\n",
      "  0.07058824 0.41960784 0.46666667 0.40392157 0.03529412 0.\n",
      "  0.         0.         0.         0.         0.         0.\n",
      "  0.         0.         0.         0.        ]\n",
      " [0.         0.         0.         0.         0.         0.\n",
      "  0.         0.         0.         0.         0.         0.38823529\n",
      "  0.60784314 0.44313725 0.23921569 0.4627451  0.67843137 0.45882353\n",
      "  0.         0.         0.01176471 0.         0.         0.\n",
      "  0.         0.         0.         0.        ]\n",
      " [0.         0.         0.         0.         0.         0.\n",
      "  0.         0.         0.00392157 0.         0.43137255 0.53333333\n",
      "  0.         0.         0.         0.         0.         0.65490196\n",
      "  0.62352941 0.         0.         0.00784314 0.         0.\n",
      "  0.         0.         0.         0.        ]\n",
      " [0.         0.         0.         0.         0.         0.00392157\n",
      "  0.         0.02352941 0.         0.28235294 0.57647059 0.\n",
      "  0.         0.01960784 0.         0.00784314 0.         0.\n",
      "  0.68235294 0.4627451  0.         0.01960784 0.         0.\n",
      "  0.         0.         0.         0.        ]\n",
      " [0.         0.         0.         0.         0.         0.00392157\n",
      "  0.01960784 0.         0.         0.68235294 0.01568627 0.\n",
      "  0.01568627 0.         0.         0.         0.         0.\n",
      "  0.         0.8        0.17254902 0.         0.01568627 0.\n",
      "  0.         0.         0.         0.        ]\n",
      " [0.         0.         0.         0.         0.         0.\n",
      "  0.03137255 0.         0.49019608 0.50196078 0.         0.03529412\n",
      "  0.         0.         0.         0.         0.         0.00784314\n",
      "  0.         0.41960784 0.59607843 0.         0.02352941 0.\n",
      "  0.         0.         0.         0.        ]\n",
      " [0.         0.         0.         0.         0.         0.\n",
      "  0.         0.         0.72156863 0.03529412 0.         0.01568627\n",
      "  0.         0.         0.         0.         0.         0.00784314\n",
      "  0.         0.         0.74509804 0.         0.         0.00784314\n",
      "  0.         0.         0.         0.        ]\n",
      " [0.         0.         0.         0.00392157 0.         0.00784314\n",
      "  0.         0.28627451 0.61960784 0.         0.         0.\n",
      "  0.         0.00392157 0.         0.         0.         0.\n",
      "  0.01568627 0.         0.61568627 0.30980392 0.         0.01176471\n",
      "  0.00392157 0.         0.         0.        ]\n",
      " [0.         0.         0.00784314 0.01960784 0.00392157 0.\n",
      "  0.         0.61568627 0.38431373 0.         0.00784314 0.\n",
      "  0.         0.00392157 0.         0.         0.         0.\n",
      "  0.01960784 0.         0.4745098  0.56862745 0.         0.\n",
      "  0.         0.         0.         0.        ]\n",
      " [0.         0.         0.         0.         0.         0.\n",
      "  0.         0.90588235 0.32941176 0.         0.00784314 0.00392157\n",
      "  0.00392157 0.         0.         0.         0.         0.\n",
      "  0.00392157 0.         0.36078431 0.8745098  0.0627451  0.\n",
      "  0.02745098 0.01568627 0.00392157 0.        ]\n",
      " [0.         0.         0.         0.         0.         0.\n",
      "  0.14901961 0.71764706 0.31764706 0.         0.         0.\n",
      "  0.00784314 0.00784314 0.00392157 0.00784314 0.00392157 0.\n",
      "  0.00392157 0.         0.47058824 0.88627451 0.22352941 0.\n",
      "  0.         0.         0.         0.        ]\n",
      " [0.         0.         0.67843137 0.84705882 0.75686275 0.83529412\n",
      "  0.71764706 0.64313725 0.65490196 0.38431373 0.0627451  0.\n",
      "  0.         0.         0.         0.         0.         0.\n",
      "  0.         0.         0.41960784 0.55294118 0.43529412 0.35686275\n",
      "  0.35294118 0.42352941 0.19607843 0.        ]\n",
      " [0.         0.         0.7254902  0.86666667 0.85098039 0.82352941\n",
      "  0.79215686 0.87058824 0.78431373 0.80784314 0.79215686 0.8\n",
      "  0.42745098 0.10588235 0.04705882 0.06666667 0.23921569 0.53333333\n",
      "  0.70588235 0.86666667 0.79215686 0.88235294 0.81568627 0.83921569\n",
      "  0.8745098  0.94117647 0.63529412 0.        ]\n",
      " [0.         0.         0.71764706 0.8627451  0.80392157 0.78431373\n",
      "  0.75686275 0.72156863 0.74117647 0.71372549 0.67843137 0.76078431\n",
      "  0.84313725 0.84705882 0.80392157 0.81176471 0.81176471 0.76470588\n",
      "  0.7254902  0.76078431 0.76078431 0.79607843 0.83137255 0.71764706\n",
      "  0.75686275 0.82745098 0.6        0.        ]\n",
      " [0.         0.         0.74509804 0.91372549 0.79607843 0.80784314\n",
      "  0.83921569 0.84705882 0.76470588 0.71764706 0.69019608 0.62352941\n",
      "  0.68627451 0.74117647 0.79215686 0.76470588 0.72941176 0.72941176\n",
      "  0.71372549 0.72941176 0.76470588 0.81960784 0.92156863 0.79607843\n",
      "  0.79215686 0.84313725 0.53333333 0.        ]\n",
      " [0.         0.         0.70588235 0.89411765 0.78823529 0.79215686\n",
      "  0.7372549  0.71764706 0.69803922 0.75294118 0.72941176 0.70980392\n",
      "  0.70980392 0.69411765 0.8        0.85098039 0.68627451 0.70196078\n",
      "  0.72156863 0.69019608 0.65098039 0.6627451  0.68627451 0.7254902\n",
      "  0.59607843 0.79607843 0.41960784 0.        ]\n",
      " [0.         0.         0.65490196 0.92156863 0.78431373 0.81176471\n",
      "  0.81176471 0.81960784 0.81176471 0.79607843 0.77647059 0.74117647\n",
      "  0.71372549 0.69803922 0.72941176 0.74117647 0.69803922 0.75294118\n",
      "  0.77254902 0.76470588 0.75294118 0.7254902  0.72156863 0.80392157\n",
      "  0.73333333 1.         0.23921569 0.        ]\n",
      " [0.         0.         0.59607843 0.98039216 0.81568627 0.83921569\n",
      "  0.81960784 0.79215686 0.78431373 0.79215686 0.80392157 0.8\n",
      "  0.78431373 0.75294118 0.77647059 0.8        0.76470588 0.80392157\n",
      "  0.80784314 0.77647059 0.78039216 0.79607843 0.83921569 0.81176471\n",
      "  0.70196078 0.97647059 0.21568627 0.        ]\n",
      " [0.         0.         0.49411765 1.         0.82745098 0.84313725\n",
      "  0.82352941 0.80784314 0.79607843 0.79607843 0.79607843 0.80784314\n",
      "  0.8        0.78039216 0.80784314 0.81176471 0.78431373 0.80784314\n",
      "  0.78823529 0.78039216 0.79215686 0.81568627 0.84313725 0.76470588\n",
      "  0.68235294 0.82745098 0.05882353 0.        ]\n",
      " [0.         0.         0.41960784 1.         0.83137255 0.82745098\n",
      "  0.82352941 0.82745098 0.81568627 0.80784314 0.80784314 0.81176471\n",
      "  0.81568627 0.81568627 0.85098039 0.83921569 0.80392157 0.80784314\n",
      "  0.8        0.81568627 0.82745098 0.82745098 0.8627451  0.77254902\n",
      "  0.71372549 0.88235294 0.         0.        ]\n",
      " [0.         0.         0.24705882 0.90980392 0.82745098 0.84705882\n",
      "  0.83137255 0.83921569 0.83137255 0.83137255 0.83921569 0.83137255\n",
      "  0.82745098 0.83137255 0.8745098  0.85882353 0.82352941 0.83921569\n",
      "  0.83529412 0.83137255 0.82745098 0.81960784 0.85098039 0.81568627\n",
      "  0.65882353 0.74509804 0.         0.        ]\n",
      " [0.         0.         0.05490196 1.         0.85490196 0.86666667\n",
      "  0.84313725 0.85490196 0.85490196 0.85098039 0.84313725 0.83529412\n",
      "  0.82745098 0.84313725 0.89411765 0.8627451  0.84705882 0.87058824\n",
      "  0.85098039 0.85098039 0.84705882 0.85490196 0.83137255 0.83529412\n",
      "  0.74117647 0.56078431 0.         0.        ]\n",
      " [0.         0.         0.         0.90196078 0.89019608 0.83921569\n",
      "  0.85098039 0.85490196 0.84705882 0.85098039 0.85098039 0.83921569\n",
      "  0.84705882 0.87058824 0.88627451 0.85490196 0.85490196 0.8627451\n",
      "  0.85882353 0.85490196 0.85098039 0.85490196 0.85098039 0.84313725\n",
      "  0.84705882 0.44313725 0.         0.        ]\n",
      " [0.         0.         0.         0.69411765 0.91372549 0.84705882\n",
      "  0.8745098  0.87058824 0.83529412 0.83529412 0.84313725 0.83137255\n",
      "  0.8627451  0.88627451 0.86666667 0.8627451  0.86666667 0.85490196\n",
      "  0.87058824 0.8627451  0.8627451  0.86666667 0.85098039 0.83137255\n",
      "  0.85882353 0.20392157 0.         0.        ]\n",
      " [0.         0.         0.         0.03921569 0.8745098  0.87058824\n",
      "  0.8627451  0.82745098 0.83529412 0.84313725 0.8627451  0.87058824\n",
      "  0.88627451 0.88627451 0.86666667 0.8745098  0.87058824 0.87058824\n",
      "  0.86666667 0.85490196 0.8627451  0.85882353 0.8627451  0.8745098\n",
      "  0.68235294 0.         0.         0.        ]\n",
      " [0.         0.         0.         0.         0.49411765 0.94509804\n",
      "  0.81568627 0.82352941 0.83921569 0.83921569 0.84705882 0.84705882\n",
      "  0.8627451  0.8627451  0.83921569 0.83529412 0.83137255 0.83137255\n",
      "  0.82352941 0.84313725 0.85098039 0.85490196 0.84313725 0.9254902\n",
      "  0.16470588 0.         0.00392157 0.        ]\n",
      " [0.         0.         0.         0.         0.         0.7372549\n",
      "  0.92941176 0.90196078 0.91372549 1.         1.         1.\n",
      "  1.         1.         1.         1.         1.         1.\n",
      "  1.         1.         0.90588235 0.89803922 0.9372549  0.63137255\n",
      "  0.         0.         0.         0.        ]\n",
      " [0.         0.         0.         0.         0.         0.\n",
      "  0.24705882 0.37254902 0.42352941 0.41176471 0.39215686 0.40392157\n",
      "  0.40784314 0.41176471 0.4        0.39215686 0.38431373 0.38039216\n",
      "  0.37647059 0.35294118 0.31372549 0.3254902  0.23529412 0.\n",
      "  0.         0.         0.         0.        ]]\n"
     ]
    },
    {
     "data": {
      "image/png": "[encoded data removed]",
      "text/plain": [
       "<Figure size 432x288 with 1 Axes>"
      ]
     },
     "metadata": {
      "needs_background": "light"
     },
     "output_type": "display_data"
    }
   ],
   "source": [
    "#can be seen here, all pixel values in between 0 and 1\n",
    "plt.imshow(trn_imgs[100])\n",
    "print(trn_lbls[100])\n",
    "print(trn_imgs[100])"
   ]
  },
  {
   "cell_type": "code",
   "execution_count": 45,
   "metadata": {},
   "outputs": [],
   "source": [
    "#Architecture of the neural network model.\n",
    "#3 layers - 1st: Flatten, for input; 2nd: Dense(hidden layer 1), with 128 neurons, and ReLU activation function\n",
    "#and 3rd: Dense, for output, with 10 neurons (because output must be classified into 10 types), and activation\n",
    "#function - SOFTMAX\n",
    "#all these 3 layers are sequentially placed\n",
    "nn_model = tf.keras.models.Sequential([tf.keras.layers.Flatten(), \n",
    "                                       tf.keras.layers.Dense(200, activation = tf.nn.relu),\n",
    "                                       tf.keras.layers.Dense(10, activation = tf.nn.softmax)])"
   ]
  },
  {
   "cell_type": "code",
   "execution_count": 46,
   "metadata": {},
   "outputs": [],
   "source": [
    "#compiling the neural network model, specifying which optimizer to use, which loss function to use & which \n",
    "#metrics to take care of\n",
    "nn_model.compile(optimizer = tf.train.AdamOptimizer(), \n",
    "                 loss = 'sparse_categorical_crossentropy', \n",
    "                 metrics = ['accuracy'])"
   ]
  },
  {
   "cell_type": "code",
   "execution_count": 79,
   "metadata": {
    "scrolled": true
   },
   "outputs": [
    {
     "name": "stdout",
     "output_type": "stream",
     "text": [
      "Epoch 1/20\n",
      "60000/60000 [==============================] - 5s 85us/sample - loss: 0.0672 - acc: 0.9744\n",
      "Epoch 2/20\n",
      "60000/60000 [==============================] - 5s 82us/sample - loss: 0.0666 - acc: 0.9745\n",
      "Epoch 3/20\n",
      "60000/60000 [==============================] - 5s 82us/sample - loss: 0.0649 - acc: 0.9757\n",
      "Epoch 4/20\n",
      "60000/60000 [==============================] - 5s 83us/sample - loss: 0.0639 - acc: 0.9761\n",
      "Epoch 5/20\n",
      "60000/60000 [==============================] - 5s 82us/sample - loss: 0.0646 - acc: 0.9754\n",
      "Epoch 6/20\n",
      "60000/60000 [==============================] - 5s 80us/sample - loss: 0.0609 - acc: 0.9776\n",
      "Epoch 7/20\n",
      "60000/60000 [==============================] - 5s 87us/sample - loss: 0.0614 - acc: 0.9765\n",
      "Epoch 8/20\n",
      "60000/60000 [==============================] - 5s 86us/sample - loss: 0.0598 - acc: 0.9775\n",
      "Epoch 9/20\n",
      "60000/60000 [==============================] - 5s 79us/sample - loss: 0.0625 - acc: 0.9769\n",
      "Epoch 10/20\n",
      "60000/60000 [==============================] - 5s 81us/sample - loss: 0.0595 - acc: 0.9776\n",
      "Epoch 11/20\n",
      "60000/60000 [==============================] - 5s 85us/sample - loss: 0.0579 - acc: 0.9782\n",
      "Epoch 12/20\n",
      "60000/60000 [==============================] - 5s 86us/sample - loss: 0.0570 - acc: 0.9781\n",
      "Epoch 13/20\n",
      "60000/60000 [==============================] - 5s 90us/sample - loss: 0.0560 - acc: 0.9798\n",
      "Epoch 14/20\n",
      "60000/60000 [==============================] - 5s 85us/sample - loss: 0.0573 - acc: 0.9790\n",
      "Epoch 15/20\n",
      "60000/60000 [==============================] - 5s 86us/sample - loss: 0.0550 - acc: 0.9794\n",
      "Epoch 16/20\n",
      "60000/60000 [==============================] - 6s 92us/sample - loss: 0.0558 - acc: 0.9791\n",
      "Epoch 17/20\n",
      "60000/60000 [==============================] - 5s 81us/sample - loss: 0.0534 - acc: 0.9797\n",
      "Epoch 18/20\n",
      "60000/60000 [==============================] - 5s 81us/sample - loss: 0.0537 - acc: 0.9797\n",
      "Epoch 19/20\n",
      "60000/60000 [==============================] - 5s 82us/sample - loss: 0.0509 - acc: 0.9811\n",
      "Epoch 20/20\n",
      "60000/60000 [==============================] - 5s 80us/sample - loss: 0.0540 - acc: 0.9798\n"
     ]
    },
    {
     "data": {
      "text/plain": [
       "<tensorflow.python.keras.callbacks.History at 0x7f9b203a2898>"
      ]
     },
     "execution_count": 79,
     "metadata": {},
     "output_type": "execute_result"
    }
   ],
   "source": [
    "#fitting the model to the training data. Or simply put, starting the training and specifying the number of epochs\n",
    "nn_model.fit(trn_imgs, trn_lbls, epochs = 20)"
   ]
  },
  {
   "cell_type": "code",
   "execution_count": 55,
   "metadata": {},
   "outputs": [
    {
     "name": "stdout",
     "output_type": "stream",
     "text": [
      "10000/10000 [==============================] - 0s 40us/sample - loss: 0.5580 - acc: 0.8929\n"
     ]
    },
    {
     "data": {
      "text/plain": [
       "[0.5579735549584031, 0.8929]"
      ]
     },
     "execution_count": 55,
     "metadata": {},
     "output_type": "execute_result"
    }
   ],
   "source": [
    "#evaluating the model on test data\n",
    "nn_model.evaluate(tst_imgs, tst_lbls)"
   ]
  },
  {
   "cell_type": "markdown",
   "metadata": {},
   "source": [
    "## Model average **88.5%** accurate"
   ]
  },
  {
   "cell_type": "markdown",
   "metadata": {},
   "source": [
    "# Exploration Exercises"
   ]
  },
  {
   "cell_type": "markdown",
   "metadata": {},
   "source": [
    "## Exercise 1"
   ]
  },
  {
   "cell_type": "code",
   "execution_count": 57,
   "metadata": {},
   "outputs": [
    {
     "name": "stdout",
     "output_type": "stream",
     "text": [
      "[5.1297544e-18 1.7036587e-33 9.9823091e-17 1.1592602e-21 2.4499668e-33\n",
      " 4.4201497e-11 7.2617910e-25 9.2383338e-08 1.4109034e-23 9.9999988e-01]\n"
     ]
    }
   ],
   "source": [
    "classifications = nn_model.predict(tst_imgs)\n",
    "print(classifications[0])"
   ]
  },
  {
   "cell_type": "code",
   "execution_count": 58,
   "metadata": {},
   "outputs": [
    {
     "name": "stdout",
     "output_type": "stream",
     "text": [
      "9\n"
     ]
    }
   ],
   "source": [
    "print(tst_lbls[0])"
   ]
  },
  {
   "cell_type": "code",
   "execution_count": 59,
   "metadata": {},
   "outputs": [
    {
     "name": "stdout",
     "output_type": "stream",
     "text": [
      "[2.4677448e-07 3.6562549e-19 1.8687748e-03 1.6020157e-20 9.9813002e-01\n",
      " 3.0774831e-12 9.4180376e-07 1.0469659e-14 8.6464280e-18 6.2309741e-10]\n"
     ]
    }
   ],
   "source": [
    "print(classifications[10])"
   ]
  },
  {
   "cell_type": "code",
   "execution_count": 60,
   "metadata": {},
   "outputs": [
    {
     "name": "stdout",
     "output_type": "stream",
     "text": [
      "4\n"
     ]
    }
   ],
   "source": [
    "print(tst_lbls[10])"
   ]
  },
  {
   "cell_type": "markdown",
   "metadata": {},
   "source": [
    "As can be seen above, the classifications stores a list of probabilities for each item, that it falls in which class. And when printing the tst_lbls(test_labels), we can see that the label corresponds to the classification's highest probability element.\n",
    "In 1st case, the 9th element of classification array has the highest probability, and the label of that image is 9 (starting index 0). Similarly in the 2nd case."
   ]
  },
  {
   "cell_type": "markdown",
   "metadata": {},
   "source": [
    "## Exercise 2"
   ]
  },
  {
   "cell_type": "code",
   "execution_count": 62,
   "metadata": {},
   "outputs": [
    {
     "name": "stdout",
     "output_type": "stream",
     "text": [
      "1.13.1\n",
      "Epoch 1/5\n",
      "60000/60000 [==============================] - 28s 465us/sample - loss: 0.1850 - acc: 0.9439\n",
      "Epoch 2/5\n",
      "60000/60000 [==============================] - 29s 476us/sample - loss: 0.0752 - acc: 0.9769\n",
      "Epoch 3/5\n",
      "60000/60000 [==============================] - 28s 475us/sample - loss: 0.0475 - acc: 0.9854\n",
      "Epoch 4/5\n",
      "60000/60000 [==============================] - 28s 470us/sample - loss: 0.0349 - acc: 0.9885\n",
      "Epoch 5/5\n",
      "60000/60000 [==============================] - 28s 467us/sample - loss: 0.0261 - acc: 0.9914\n",
      "10000/10000 [==============================] - 1s 96us/sample - loss: 0.0763 - acc: 0.9770\n",
      "[1.6785570e-08 2.1979599e-10 2.5045094e-11 1.3164149e-11 4.6054985e-10\n",
      " 3.3319690e-08 1.0000000e+00 1.4182247e-10 5.5328342e-09 2.8986214e-12]\n",
      "6\n"
     ]
    }
   ],
   "source": [
    "import tensorflow as tf\n",
    "print(tf.__version__)\n",
    "\n",
    "#Loading the data\n",
    "mnist_numbers = tf.keras.datasets.mnist\n",
    "\n",
    "#loading the training data and test data into different variables\n",
    "(train_imgs, train_lbls), (test_imgs, test_lbls) = mnist_numbers.load_data()\n",
    "\n",
    "#mapping the pixel values between 0 and 1\n",
    "train_imgs = train_imgs/255\n",
    "test_imgs = test_imgs/255\n",
    "\n",
    "#defining the model architecture\n",
    "mnist_numbers_model = tf.keras.models.Sequential([tf.keras.layers.Flatten(), \n",
    "                                                 tf.keras.layers.Dense(1024, activation = tf.nn.relu), \n",
    "                                                 tf.keras.layers.Dense(10, activation = tf.nn.softmax)])\n",
    "\n",
    "#compiling the model, specifying the optimizer(which version of gradient descent to use), and the loss function\n",
    "mnist_numbers_model.compile(optimizer = 'adam', \n",
    "                           loss = 'sparse_categorical_crossentropy',\n",
    "                           metrics = ['accuracy'])\n",
    "\n",
    "#training the model\n",
    "mnist_numbers_model.fit(train_imgs, train_lbls, epochs = 5)\n",
    "\n",
    "#testing the model\n",
    "mnist_numbers_model.evaluate(test_imgs, test_lbls)\n",
    "\n",
    "#using the trained model to predict the classification of test_images into different classes\n",
    "classifications_mnist = mnist_numbers_model.predict(test_imgs)\n",
    "\n",
    "#Printing the classification probability array for 100th image of test_images and its label to verify\n",
    "print(classifications_mnist[100])\n",
    "print(test_lbls[100])"
   ]
  },
  {
   "cell_type": "markdown",
   "metadata": {},
   "source": [
    "## Exercise 3 & 4"
   ]
  },
  {
   "cell_type": "code",
   "execution_count": 67,
   "metadata": {
    "scrolled": true
   },
   "outputs": [
    {
     "name": "stdout",
     "output_type": "stream",
     "text": [
      "1.13.1\n",
      "Epoch 1/5\n",
      "50816/60000 [========================>.....] - ETA: 0s - loss: 0.3184"
     ]
    },
    {
     "ename": "KeyboardInterrupt",
     "evalue": "",
     "output_type": "error",
     "traceback": [
      "\u001b[0;31m---------------------------------------------------------------------------\u001b[0m",
      "\u001b[0;31mKeyboardInterrupt\u001b[0m                         Traceback (most recent call last)",
      "\u001b[0;32m<ipython-input-67-2ebaf9477b68>\u001b[0m in \u001b[0;36m<module>\u001b[0;34m\u001b[0m\n\u001b[1;32m     19\u001b[0m               loss = 'sparse_categorical_crossentropy')\n\u001b[1;32m     20\u001b[0m \u001b[0;34m\u001b[0m\u001b[0m\n\u001b[0;32m---> 21\u001b[0;31m \u001b[0mmodel\u001b[0m\u001b[0;34m.\u001b[0m\u001b[0mfit\u001b[0m\u001b[0;34m(\u001b[0m\u001b[0mtraining_images\u001b[0m\u001b[0;34m,\u001b[0m \u001b[0mtraining_labels\u001b[0m\u001b[0;34m,\u001b[0m \u001b[0mepochs\u001b[0m\u001b[0;34m=\u001b[0m\u001b[0;36m5\u001b[0m\u001b[0;34m)\u001b[0m\u001b[0;34m\u001b[0m\u001b[0;34m\u001b[0m\u001b[0m\n\u001b[0m\u001b[1;32m     22\u001b[0m \u001b[0;34m\u001b[0m\u001b[0m\n\u001b[1;32m     23\u001b[0m \u001b[0mmodel\u001b[0m\u001b[0;34m.\u001b[0m\u001b[0mevaluate\u001b[0m\u001b[0;34m(\u001b[0m\u001b[0mtest_images\u001b[0m\u001b[0;34m,\u001b[0m \u001b[0mtest_labels\u001b[0m\u001b[0;34m)\u001b[0m\u001b[0;34m\u001b[0m\u001b[0;34m\u001b[0m\u001b[0m\n",
      "\u001b[0;32m~/anaconda3/lib/python3.7/site-packages/tensorflow/python/keras/engine/training.py\u001b[0m in \u001b[0;36mfit\u001b[0;34m(self, x, y, batch_size, epochs, verbose, callbacks, validation_split, validation_data, shuffle, class_weight, sample_weight, initial_epoch, steps_per_epoch, validation_steps, max_queue_size, workers, use_multiprocessing, **kwargs)\u001b[0m\n\u001b[1;32m    878\u001b[0m           \u001b[0minitial_epoch\u001b[0m\u001b[0;34m=\u001b[0m\u001b[0minitial_epoch\u001b[0m\u001b[0;34m,\u001b[0m\u001b[0;34m\u001b[0m\u001b[0;34m\u001b[0m\u001b[0m\n\u001b[1;32m    879\u001b[0m           \u001b[0msteps_per_epoch\u001b[0m\u001b[0;34m=\u001b[0m\u001b[0msteps_per_epoch\u001b[0m\u001b[0;34m,\u001b[0m\u001b[0;34m\u001b[0m\u001b[0;34m\u001b[0m\u001b[0m\n\u001b[0;32m--> 880\u001b[0;31m           validation_steps=validation_steps)\n\u001b[0m\u001b[1;32m    881\u001b[0m \u001b[0;34m\u001b[0m\u001b[0m\n\u001b[1;32m    882\u001b[0m   def evaluate(self,\n",
      "\u001b[0;32m~/anaconda3/lib/python3.7/site-packages/tensorflow/python/keras/engine/training_arrays.py\u001b[0m in \u001b[0;36mmodel_iteration\u001b[0;34m(model, inputs, targets, sample_weights, batch_size, epochs, verbose, callbacks, val_inputs, val_targets, val_sample_weights, shuffle, initial_epoch, steps_per_epoch, validation_steps, mode, validation_in_fit, **kwargs)\u001b[0m\n\u001b[1;32m    327\u001b[0m \u001b[0;34m\u001b[0m\u001b[0m\n\u001b[1;32m    328\u001b[0m         \u001b[0;31m# Get outputs.\u001b[0m\u001b[0;34m\u001b[0m\u001b[0;34m\u001b[0m\u001b[0;34m\u001b[0m\u001b[0m\n\u001b[0;32m--> 329\u001b[0;31m         \u001b[0mbatch_outs\u001b[0m \u001b[0;34m=\u001b[0m \u001b[0mf\u001b[0m\u001b[0;34m(\u001b[0m\u001b[0mins_batch\u001b[0m\u001b[0;34m)\u001b[0m\u001b[0;34m\u001b[0m\u001b[0;34m\u001b[0m\u001b[0m\n\u001b[0m\u001b[1;32m    330\u001b[0m         \u001b[0;32mif\u001b[0m \u001b[0;32mnot\u001b[0m \u001b[0misinstance\u001b[0m\u001b[0;34m(\u001b[0m\u001b[0mbatch_outs\u001b[0m\u001b[0;34m,\u001b[0m \u001b[0mlist\u001b[0m\u001b[0;34m)\u001b[0m\u001b[0;34m:\u001b[0m\u001b[0;34m\u001b[0m\u001b[0;34m\u001b[0m\u001b[0m\n\u001b[1;32m    331\u001b[0m           \u001b[0mbatch_outs\u001b[0m \u001b[0;34m=\u001b[0m \u001b[0;34m[\u001b[0m\u001b[0mbatch_outs\u001b[0m\u001b[0;34m]\u001b[0m\u001b[0;34m\u001b[0m\u001b[0;34m\u001b[0m\u001b[0m\n",
      "\u001b[0;32m~/anaconda3/lib/python3.7/site-packages/tensorflow/python/keras/backend.py\u001b[0m in \u001b[0;36m__call__\u001b[0;34m(self, inputs)\u001b[0m\n\u001b[1;32m   3074\u001b[0m \u001b[0;34m\u001b[0m\u001b[0m\n\u001b[1;32m   3075\u001b[0m     fetched = self._callable_fn(*array_vals,\n\u001b[0;32m-> 3076\u001b[0;31m                                 run_metadata=self.run_metadata)\n\u001b[0m\u001b[1;32m   3077\u001b[0m     \u001b[0mself\u001b[0m\u001b[0;34m.\u001b[0m\u001b[0m_call_fetch_callbacks\u001b[0m\u001b[0;34m(\u001b[0m\u001b[0mfetched\u001b[0m\u001b[0;34m[\u001b[0m\u001b[0;34m-\u001b[0m\u001b[0mlen\u001b[0m\u001b[0;34m(\u001b[0m\u001b[0mself\u001b[0m\u001b[0;34m.\u001b[0m\u001b[0m_fetches\u001b[0m\u001b[0;34m)\u001b[0m\u001b[0;34m:\u001b[0m\u001b[0;34m]\u001b[0m\u001b[0;34m)\u001b[0m\u001b[0;34m\u001b[0m\u001b[0;34m\u001b[0m\u001b[0m\n\u001b[1;32m   3078\u001b[0m     return nest.pack_sequence_as(self._outputs_structure,\n",
      "\u001b[0;32m~/anaconda3/lib/python3.7/site-packages/tensorflow/python/client/session.py\u001b[0m in \u001b[0;36m__call__\u001b[0;34m(self, *args, **kwargs)\u001b[0m\n\u001b[1;32m   1437\u001b[0m           ret = tf_session.TF_SessionRunCallable(\n\u001b[1;32m   1438\u001b[0m               \u001b[0mself\u001b[0m\u001b[0;34m.\u001b[0m\u001b[0m_session\u001b[0m\u001b[0;34m.\u001b[0m\u001b[0m_session\u001b[0m\u001b[0;34m,\u001b[0m \u001b[0mself\u001b[0m\u001b[0;34m.\u001b[0m\u001b[0m_handle\u001b[0m\u001b[0;34m,\u001b[0m \u001b[0margs\u001b[0m\u001b[0;34m,\u001b[0m \u001b[0mstatus\u001b[0m\u001b[0;34m,\u001b[0m\u001b[0;34m\u001b[0m\u001b[0;34m\u001b[0m\u001b[0m\n\u001b[0;32m-> 1439\u001b[0;31m               run_metadata_ptr)\n\u001b[0m\u001b[1;32m   1440\u001b[0m         \u001b[0;32mif\u001b[0m \u001b[0mrun_metadata\u001b[0m\u001b[0;34m:\u001b[0m\u001b[0;34m\u001b[0m\u001b[0;34m\u001b[0m\u001b[0m\n\u001b[1;32m   1441\u001b[0m           \u001b[0mproto_data\u001b[0m \u001b[0;34m=\u001b[0m \u001b[0mtf_session\u001b[0m\u001b[0;34m.\u001b[0m\u001b[0mTF_GetBuffer\u001b[0m\u001b[0;34m(\u001b[0m\u001b[0mrun_metadata_ptr\u001b[0m\u001b[0;34m)\u001b[0m\u001b[0;34m\u001b[0m\u001b[0;34m\u001b[0m\u001b[0m\n",
      "\u001b[0;31mKeyboardInterrupt\u001b[0m: "
     ]
    }
   ],
   "source": [
    "import tensorflow as tf\n",
    "print(tf.__version__)\n",
    "\n",
    "mnist = tf.keras.datasets.mnist\n",
    "\n",
    "(training_images, training_labels) ,  (test_images, test_labels) = mnist.load_data()\n",
    "\n",
    "training_images = training_images/255.0\n",
    "test_images = test_images/255.0\n",
    "\n",
    "#Keeping just 5 neurons in the last layer gives and error as below\n",
    "#InvalidArgumentError: Received a label value of 9 which is outside the valid range of [0, 5).  Label values: 1 1 2 6 1 7 2 9 8 1 3 8 2 3 3 7 1 2 1 2 2 2 1 4 5 8 5 4 5 2 8 2\n",
    "model = tf.keras.models.Sequential([tf.keras.layers.Flatten(),\n",
    "                                    tf.keras.layers.Dense(64, activation=tf.nn.relu),\n",
    "                                    #tf.keras.layers.Dense(5, activation=tf.nn.softmax)])\n",
    "                                    tf.keras.layers.Dense(10, activation=tf.nn.softmax)])\n",
    "\n",
    "model.compile(optimizer = 'adam',\n",
    "              loss = 'sparse_categorical_crossentropy')\n",
    "\n",
    "model.fit(training_images, training_labels, epochs=5)\n",
    "\n",
    "model.evaluate(test_images, test_labels)\n",
    "\n",
    "classifications = model.predict(test_images)\n",
    "\n",
    "print(classifications[0])\n",
    "print(test_labels[0])"
   ]
  },
  {
   "cell_type": "markdown",
   "metadata": {},
   "source": [
    "## Exercise 8\n",
    "Implementing **Callbacks**"
   ]
  },
  {
   "cell_type": "code",
   "execution_count": 2,
   "metadata": {},
   "outputs": [
    {
     "name": "stdout",
     "output_type": "stream",
     "text": [
      "1.13.1\n",
      "WARNING:tensorflow:From /home/shitbot009/anaconda3/lib/python3.7/site-packages/tensorflow/python/ops/resource_variable_ops.py:435: colocate_with (from tensorflow.python.framework.ops) is deprecated and will be removed in a future version.\n",
      "Instructions for updating:\n",
      "Colocations handled automatically by placer.\n",
      "Epoch 1/20\n",
      "60000/60000 [==============================] - 5s 76us/sample - loss: 0.2613 - acc: 0.9252\n",
      "Epoch 2/20\n",
      "60000/60000 [==============================] - 5s 75us/sample - loss: 0.1117 - acc: 0.9673\n",
      "Epoch 3/20\n",
      "60000/60000 [==============================] - 5s 82us/sample - loss: 0.0764 - acc: 0.9764\n",
      "Epoch 4/20\n",
      "60000/60000 [==============================] - 5s 81us/sample - loss: 0.0561 - acc: 0.9826\n",
      "Epoch 5/20\n",
      "60000/60000 [==============================] - 5s 76us/sample - loss: 0.0436 - acc: 0.9865\n",
      "Epoch 6/20\n",
      "60000/60000 [==============================] - 12s 192us/sample - loss: 0.0347 - acc: 0.9888\n",
      "Epoch 7/20\n",
      "59936/60000 [============================>.] - ETA: 0s - loss: 0.0262 - acc: 0.9920\n",
      "Reached Accuracy Threshold, so stopping training.\n",
      "60000/60000 [==============================] - 26s 433us/sample - loss: 0.0262 - acc: 0.9920\n",
      "10000/10000 [==============================] - 2s 195us/sample - loss: 0.0762 - acc: 0.9773\n"
     ]
    },
    {
     "data": {
      "text/plain": [
       "[0.0762003939972259, 0.9773]"
      ]
     },
     "execution_count": 2,
     "metadata": {},
     "output_type": "execute_result"
    }
   ],
   "source": [
    "import tensorflow as tf\n",
    "print(tf.__version__)\n",
    "\n",
    "ACCURACY_THRESHOLD = 0.99\n",
    "\n",
    "class stopping_callback(tf.keras.callbacks.Callback):\n",
    "    def on_epoch_end(self, epoch, logs={}):\n",
    "        if(logs.get('acc') > ACCURACY_THRESHOLD):\n",
    "            print(\"\\nReached Accuracy Threshold, so stopping training.\")\n",
    "            self.model.stop_training = True\n",
    "\n",
    "callbacks1 = stopping_callback()\n",
    "\n",
    "mnist = tf.keras.datasets.mnist\n",
    "(train_imgs, train_lbls), (test_imgs, test_lbls) = mnist.load_data()\n",
    "\n",
    "train_imgs = train_imgs/255.0\n",
    "test_imgs = test_imgs/255.0\n",
    "\n",
    "mnist_model = tf.keras.models.Sequential([tf.keras.layers.Flatten(),\n",
    "                                         tf.keras.layers.Dense(128, activation=tf.nn.relu),\n",
    "                                         tf.keras.layers.Dense(10, activation=tf.nn.softmax)])\n",
    "\n",
    "mnist_model.compile(optimizer = 'adam', loss = 'sparse_categorical_crossentropy', metrics = ['accuracy'])\n",
    "\n",
    "mnist_model.fit(train_imgs, train_lbls, epochs=20, callbacks=[callbacks1])\n",
    "\n",
    "mnist_model.evaluate(test_imgs, test_lbls)"
   ]
  }
 ],
 "metadata": {
  "kernelspec": {
   "display_name": "Python 3",
   "language": "python",
   "name": "python3"
  },
  "language_info": {
   "codemirror_mode": {
    "name": "ipython",
    "version": 3
   },
   "file_extension": ".py",
   "mimetype": "text/x-python",
   "name": "python",
   "nbconvert_exporter": "python",
   "pygments_lexer": "ipython3",
   "version": "3.7.3"
  }
 },
 "nbformat": 4,
 "nbformat_minor": 2
}
